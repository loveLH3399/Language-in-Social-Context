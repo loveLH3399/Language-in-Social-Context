{
  "nbformat": 4,
  "nbformat_minor": 0,
  "metadata": {
    "colab": {
      "provenance": []
    },
    "kernelspec": {
      "name": "python3",
      "display_name": "Python 3"
    },
    "language_info": {
      "name": "python"
    }
  },
  "cells": [
    {
      "cell_type": "markdown",
      "source": [
        "# Trust Data Analysis\n",
        "In this notebook, we will be looking into\n",
        "1. Data Count\n",
        "2. Drop duplicates and NaN from Train data and check the data count\n",
        "3. Label distribution\n",
        "  - 3.1 Gender Label Distribution\n",
        "  - 3.2 Age Label Distribution\n",
        "4. Sentence Length\n",
        "  - 4.1 Getting the sentence length for the data\n",
        "  - 4.2 Min and Max sentence length\n",
        "  - 4.3 Top 20 sentence length\n",
        "  - 4.4 Bottom 20 sentence length\n",
        "5. Word Count\n",
        "  - 5.1 Get Each Row Word Count\n",
        "  - 5.2 Min and Max word length\n",
        "  - 5.3 Top 20 word length\n",
        "\n",
        "**Let's Get Started!**\n",
        "\n",
        "---\n",
        "\n"
      ],
      "metadata": {
        "id": "8ABW_Q0hE6FJ"
      }
    },
    {
      "cell_type": "markdown",
      "source": [
        "# Install Required Packages\n",
        "*Use \"pip install\" to install the package*"
      ],
      "metadata": {
        "id": "8Nm4Kwps4b9B"
      }
    },
    {
      "cell_type": "code",
      "source": [
        "! pip install datasets"
      ],
      "metadata": {
        "colab": {
          "base_uri": "https://localhost:8080/"
        },
        "collapsed": true,
        "id": "2ly-wAVs4ZRF",
        "outputId": "a0180c9a-3ee5-445e-ee2d-d68e16d9582a"
      },
      "execution_count": null,
      "outputs": [
        {
          "output_type": "stream",
          "name": "stdout",
          "text": [
            "Collecting datasets\n",
            "  Downloading datasets-2.20.0-py3-none-any.whl (547 kB)\n",
            "\u001b[2K     \u001b[90m━━━━━━━━━━━━━━━━━━━━━━━━━━━━━━━━━━━━━━━━\u001b[0m \u001b[32m547.8/547.8 kB\u001b[0m \u001b[31m3.2 MB/s\u001b[0m eta \u001b[36m0:00:00\u001b[0m\n",
            "\u001b[?25hRequirement already satisfied: filelock in /usr/local/lib/python3.10/dist-packages (from datasets) (3.15.1)\n",
            "Requirement already satisfied: numpy>=1.17 in /usr/local/lib/python3.10/dist-packages (from datasets) (1.25.2)\n",
            "Collecting pyarrow>=15.0.0 (from datasets)\n",
            "  Downloading pyarrow-16.1.0-cp310-cp310-manylinux_2_28_x86_64.whl (40.8 MB)\n",
            "\u001b[2K     \u001b[90m━━━━━━━━━━━━━━━━━━━━━━━━━━━━━━━━━━━━━━━━\u001b[0m \u001b[32m40.8/40.8 MB\u001b[0m \u001b[31m13.3 MB/s\u001b[0m eta \u001b[36m0:00:00\u001b[0m\n",
            "\u001b[?25hRequirement already satisfied: pyarrow-hotfix in /usr/local/lib/python3.10/dist-packages (from datasets) (0.6)\n",
            "Collecting dill<0.3.9,>=0.3.0 (from datasets)\n",
            "  Downloading dill-0.3.8-py3-none-any.whl (116 kB)\n",
            "\u001b[2K     \u001b[90m━━━━━━━━━━━━━━━━━━━━━━━━━━━━━━━━━━━━━━━━\u001b[0m \u001b[32m116.3/116.3 kB\u001b[0m \u001b[31m11.1 MB/s\u001b[0m eta \u001b[36m0:00:00\u001b[0m\n",
            "\u001b[?25hRequirement already satisfied: pandas in /usr/local/lib/python3.10/dist-packages (from datasets) (2.0.3)\n",
            "Collecting requests>=2.32.2 (from datasets)\n",
            "  Downloading requests-2.32.3-py3-none-any.whl (64 kB)\n",
            "\u001b[2K     \u001b[90m━━━━━━━━━━━━━━━━━━━━━━━━━━━━━━━━━━━━━━━━\u001b[0m \u001b[32m64.9/64.9 kB\u001b[0m \u001b[31m6.7 MB/s\u001b[0m eta \u001b[36m0:00:00\u001b[0m\n",
            "\u001b[?25hRequirement already satisfied: tqdm>=4.66.3 in /usr/local/lib/python3.10/dist-packages (from datasets) (4.66.4)\n",
            "Collecting xxhash (from datasets)\n",
            "  Downloading xxhash-3.4.1-cp310-cp310-manylinux_2_17_x86_64.manylinux2014_x86_64.whl (194 kB)\n",
            "\u001b[2K     \u001b[90m━━━━━━━━━━━━━━━━━━━━━━━━━━━━━━━━━━━━━━━━\u001b[0m \u001b[32m194.1/194.1 kB\u001b[0m \u001b[31m19.8 MB/s\u001b[0m eta \u001b[36m0:00:00\u001b[0m\n",
            "\u001b[?25hCollecting multiprocess (from datasets)\n",
            "  Downloading multiprocess-0.70.16-py310-none-any.whl (134 kB)\n",
            "\u001b[2K     \u001b[90m━━━━━━━━━━━━━━━━━━━━━━━━━━━━━━━━━━━━━━━━\u001b[0m \u001b[32m134.8/134.8 kB\u001b[0m \u001b[31m12.4 MB/s\u001b[0m eta \u001b[36m0:00:00\u001b[0m\n",
            "\u001b[?25hRequirement already satisfied: fsspec[http]<=2024.5.0,>=2023.1.0 in /usr/local/lib/python3.10/dist-packages (from datasets) (2023.6.0)\n",
            "Requirement already satisfied: aiohttp in /usr/local/lib/python3.10/dist-packages (from datasets) (3.9.5)\n",
            "Requirement already satisfied: huggingface-hub>=0.21.2 in /usr/local/lib/python3.10/dist-packages (from datasets) (0.23.4)\n",
            "Requirement already satisfied: packaging in /usr/local/lib/python3.10/dist-packages (from datasets) (24.1)\n",
            "Requirement already satisfied: pyyaml>=5.1 in /usr/local/lib/python3.10/dist-packages (from datasets) (6.0.1)\n",
            "Requirement already satisfied: aiosignal>=1.1.2 in /usr/local/lib/python3.10/dist-packages (from aiohttp->datasets) (1.3.1)\n",
            "Requirement already satisfied: attrs>=17.3.0 in /usr/local/lib/python3.10/dist-packages (from aiohttp->datasets) (23.2.0)\n",
            "Requirement already satisfied: frozenlist>=1.1.1 in /usr/local/lib/python3.10/dist-packages (from aiohttp->datasets) (1.4.1)\n",
            "Requirement already satisfied: multidict<7.0,>=4.5 in /usr/local/lib/python3.10/dist-packages (from aiohttp->datasets) (6.0.5)\n",
            "Requirement already satisfied: yarl<2.0,>=1.0 in /usr/local/lib/python3.10/dist-packages (from aiohttp->datasets) (1.9.4)\n",
            "Requirement already satisfied: async-timeout<5.0,>=4.0 in /usr/local/lib/python3.10/dist-packages (from aiohttp->datasets) (4.0.3)\n",
            "Requirement already satisfied: typing-extensions>=3.7.4.3 in /usr/local/lib/python3.10/dist-packages (from huggingface-hub>=0.21.2->datasets) (4.12.2)\n",
            "Requirement already satisfied: charset-normalizer<4,>=2 in /usr/local/lib/python3.10/dist-packages (from requests>=2.32.2->datasets) (3.3.2)\n",
            "Requirement already satisfied: idna<4,>=2.5 in /usr/local/lib/python3.10/dist-packages (from requests>=2.32.2->datasets) (3.7)\n",
            "Requirement already satisfied: urllib3<3,>=1.21.1 in /usr/local/lib/python3.10/dist-packages (from requests>=2.32.2->datasets) (2.0.7)\n",
            "Requirement already satisfied: certifi>=2017.4.17 in /usr/local/lib/python3.10/dist-packages (from requests>=2.32.2->datasets) (2024.6.2)\n",
            "Requirement already satisfied: python-dateutil>=2.8.2 in /usr/local/lib/python3.10/dist-packages (from pandas->datasets) (2.8.2)\n",
            "Requirement already satisfied: pytz>=2020.1 in /usr/local/lib/python3.10/dist-packages (from pandas->datasets) (2023.4)\n",
            "Requirement already satisfied: tzdata>=2022.1 in /usr/local/lib/python3.10/dist-packages (from pandas->datasets) (2024.1)\n",
            "Requirement already satisfied: six>=1.5 in /usr/local/lib/python3.10/dist-packages (from python-dateutil>=2.8.2->pandas->datasets) (1.16.0)\n",
            "Installing collected packages: xxhash, requests, pyarrow, dill, multiprocess, datasets\n",
            "  Attempting uninstall: requests\n",
            "    Found existing installation: requests 2.31.0\n",
            "    Uninstalling requests-2.31.0:\n",
            "      Successfully uninstalled requests-2.31.0\n",
            "  Attempting uninstall: pyarrow\n",
            "    Found existing installation: pyarrow 14.0.2\n",
            "    Uninstalling pyarrow-14.0.2:\n",
            "      Successfully uninstalled pyarrow-14.0.2\n",
            "\u001b[31mERROR: pip's dependency resolver does not currently take into account all the packages that are installed. This behaviour is the source of the following dependency conflicts.\n",
            "cudf-cu12 24.4.1 requires pyarrow<15.0.0a0,>=14.0.1, but you have pyarrow 16.1.0 which is incompatible.\n",
            "google-colab 1.0.0 requires requests==2.31.0, but you have requests 2.32.3 which is incompatible.\n",
            "ibis-framework 8.0.0 requires pyarrow<16,>=2, but you have pyarrow 16.1.0 which is incompatible.\u001b[0m\u001b[31m\n",
            "\u001b[0mSuccessfully installed datasets-2.20.0 dill-0.3.8 multiprocess-0.70.16 pyarrow-16.1.0 requests-2.32.3 xxhash-3.4.1\n"
          ]
        }
      ]
    },
    {
      "cell_type": "markdown",
      "source": [
        "# Load Python Libraries\n"
      ],
      "metadata": {
        "id": "mf6EQtlJ4Z_0"
      }
    },
    {
      "cell_type": "code",
      "execution_count": null,
      "metadata": {
        "id": "--Z89TIUOFz5"
      },
      "outputs": [],
      "source": [
        "import numpy as np\n",
        "import random\n",
        "import os\n",
        "import datetime\n",
        "import datasets\n",
        "import matplotlib.pyplot as plt\n",
        "import pandas as pd\n",
        "import time\n",
        "import spacy\n"
      ]
    },
    {
      "cell_type": "markdown",
      "source": [
        "# Load Spacy model\n",
        "spaCy is an open-source software library for advanced natural language processing"
      ],
      "metadata": {
        "id": "v0grOhsLAzai"
      }
    },
    {
      "cell_type": "code",
      "source": [
        "nlp = spacy.load(\"en_core_web_sm\")\n"
      ],
      "metadata": {
        "id": "5wN5q-ebA1_w"
      },
      "execution_count": null,
      "outputs": []
    },
    {
      "cell_type": "markdown",
      "source": [
        "# Load Train and Test Dataset"
      ],
      "metadata": {
        "id": "4CrjAM8z4X05"
      }
    },
    {
      "cell_type": "code",
      "source": [
        "df_train = pd.read_csv(\"/content/trust_train.csv\")\n",
        "df_test = pd.read_csv(\"/content/trust_test.csv\")"
      ],
      "metadata": {
        "id": "WtORqgO34VDh"
      },
      "execution_count": null,
      "outputs": []
    },
    {
      "cell_type": "markdown",
      "source": [
        "# View train data"
      ],
      "metadata": {
        "id": "ZSESDTTl4p5P"
      }
    },
    {
      "cell_type": "code",
      "source": [
        "df_train.head() #view top 5 rows\n",
        "# df_train.tail() #view bottom 5 rows\n"
      ],
      "metadata": {
        "colab": {
          "base_uri": "https://localhost:8080/",
          "height": 206
        },
        "id": "9Ql1BOFW4nzS",
        "outputId": "88c9dd64-ac1f-462e-9cb6-ba1215288c23"
      },
      "execution_count": null,
      "outputs": [
        {
          "output_type": "execute_result",
          "data": {
            "text/plain": [
              "   label  age ageRange   id                                               text\n",
              "0      1   42    25-54  238                      Not the best overall service.\n",
              "1      1   42    25-54  239  Since it is the #1 social network however with...\n",
              "2      1   42    25-54  240  Not only that you can find anything, but its r...\n",
              "3      1   42    25-54  241  I'm always satisfied with their level of servi...\n",
              "4      1   32    25-54  242  On time, nice chap and worked like a pro - Ver..."
            ],
            "text/html": [
              "\n",
              "  <div id=\"df-82fdfd84-e049-4260-9fba-083340ba50b5\" class=\"colab-df-container\">\n",
              "    <div>\n",
              "<style scoped>\n",
              "    .dataframe tbody tr th:only-of-type {\n",
              "        vertical-align: middle;\n",
              "    }\n",
              "\n",
              "    .dataframe tbody tr th {\n",
              "        vertical-align: top;\n",
              "    }\n",
              "\n",
              "    .dataframe thead th {\n",
              "        text-align: right;\n",
              "    }\n",
              "</style>\n",
              "<table border=\"1\" class=\"dataframe\">\n",
              "  <thead>\n",
              "    <tr style=\"text-align: right;\">\n",
              "      <th></th>\n",
              "      <th>label</th>\n",
              "      <th>age</th>\n",
              "      <th>ageRange</th>\n",
              "      <th>id</th>\n",
              "      <th>text</th>\n",
              "    </tr>\n",
              "  </thead>\n",
              "  <tbody>\n",
              "    <tr>\n",
              "      <th>0</th>\n",
              "      <td>1</td>\n",
              "      <td>42</td>\n",
              "      <td>25-54</td>\n",
              "      <td>238</td>\n",
              "      <td>Not the best overall service.</td>\n",
              "    </tr>\n",
              "    <tr>\n",
              "      <th>1</th>\n",
              "      <td>1</td>\n",
              "      <td>42</td>\n",
              "      <td>25-54</td>\n",
              "      <td>239</td>\n",
              "      <td>Since it is the #1 social network however with...</td>\n",
              "    </tr>\n",
              "    <tr>\n",
              "      <th>2</th>\n",
              "      <td>1</td>\n",
              "      <td>42</td>\n",
              "      <td>25-54</td>\n",
              "      <td>240</td>\n",
              "      <td>Not only that you can find anything, but its r...</td>\n",
              "    </tr>\n",
              "    <tr>\n",
              "      <th>3</th>\n",
              "      <td>1</td>\n",
              "      <td>42</td>\n",
              "      <td>25-54</td>\n",
              "      <td>241</td>\n",
              "      <td>I'm always satisfied with their level of servi...</td>\n",
              "    </tr>\n",
              "    <tr>\n",
              "      <th>4</th>\n",
              "      <td>1</td>\n",
              "      <td>32</td>\n",
              "      <td>25-54</td>\n",
              "      <td>242</td>\n",
              "      <td>On time, nice chap and worked like a pro - Ver...</td>\n",
              "    </tr>\n",
              "  </tbody>\n",
              "</table>\n",
              "</div>\n",
              "    <div class=\"colab-df-buttons\">\n",
              "\n",
              "  <div class=\"colab-df-container\">\n",
              "    <button class=\"colab-df-convert\" onclick=\"convertToInteractive('df-82fdfd84-e049-4260-9fba-083340ba50b5')\"\n",
              "            title=\"Convert this dataframe to an interactive table.\"\n",
              "            style=\"display:none;\">\n",
              "\n",
              "  <svg xmlns=\"http://www.w3.org/2000/svg\" height=\"24px\" viewBox=\"0 -960 960 960\">\n",
              "    <path d=\"M120-120v-720h720v720H120Zm60-500h600v-160H180v160Zm220 220h160v-160H400v160Zm0 220h160v-160H400v160ZM180-400h160v-160H180v160Zm440 0h160v-160H620v160ZM180-180h160v-160H180v160Zm440 0h160v-160H620v160Z\"/>\n",
              "  </svg>\n",
              "    </button>\n",
              "\n",
              "  <style>\n",
              "    .colab-df-container {\n",
              "      display:flex;\n",
              "      gap: 12px;\n",
              "    }\n",
              "\n",
              "    .colab-df-convert {\n",
              "      background-color: #E8F0FE;\n",
              "      border: none;\n",
              "      border-radius: 50%;\n",
              "      cursor: pointer;\n",
              "      display: none;\n",
              "      fill: #1967D2;\n",
              "      height: 32px;\n",
              "      padding: 0 0 0 0;\n",
              "      width: 32px;\n",
              "    }\n",
              "\n",
              "    .colab-df-convert:hover {\n",
              "      background-color: #E2EBFA;\n",
              "      box-shadow: 0px 1px 2px rgba(60, 64, 67, 0.3), 0px 1px 3px 1px rgba(60, 64, 67, 0.15);\n",
              "      fill: #174EA6;\n",
              "    }\n",
              "\n",
              "    .colab-df-buttons div {\n",
              "      margin-bottom: 4px;\n",
              "    }\n",
              "\n",
              "    [theme=dark] .colab-df-convert {\n",
              "      background-color: #3B4455;\n",
              "      fill: #D2E3FC;\n",
              "    }\n",
              "\n",
              "    [theme=dark] .colab-df-convert:hover {\n",
              "      background-color: #434B5C;\n",
              "      box-shadow: 0px 1px 3px 1px rgba(0, 0, 0, 0.15);\n",
              "      filter: drop-shadow(0px 1px 2px rgba(0, 0, 0, 0.3));\n",
              "      fill: #FFFFFF;\n",
              "    }\n",
              "  </style>\n",
              "\n",
              "    <script>\n",
              "      const buttonEl =\n",
              "        document.querySelector('#df-82fdfd84-e049-4260-9fba-083340ba50b5 button.colab-df-convert');\n",
              "      buttonEl.style.display =\n",
              "        google.colab.kernel.accessAllowed ? 'block' : 'none';\n",
              "\n",
              "      async function convertToInteractive(key) {\n",
              "        const element = document.querySelector('#df-82fdfd84-e049-4260-9fba-083340ba50b5');\n",
              "        const dataTable =\n",
              "          await google.colab.kernel.invokeFunction('convertToInteractive',\n",
              "                                                    [key], {});\n",
              "        if (!dataTable) return;\n",
              "\n",
              "        const docLinkHtml = 'Like what you see? Visit the ' +\n",
              "          '<a target=\"_blank\" href=https://colab.research.google.com/notebooks/data_table.ipynb>data table notebook</a>'\n",
              "          + ' to learn more about interactive tables.';\n",
              "        element.innerHTML = '';\n",
              "        dataTable['output_type'] = 'display_data';\n",
              "        await google.colab.output.renderOutput(dataTable, element);\n",
              "        const docLink = document.createElement('div');\n",
              "        docLink.innerHTML = docLinkHtml;\n",
              "        element.appendChild(docLink);\n",
              "      }\n",
              "    </script>\n",
              "  </div>\n",
              "\n",
              "\n",
              "<div id=\"df-65fbc6c1-71c6-40fd-97a3-a4742930da2a\">\n",
              "  <button class=\"colab-df-quickchart\" onclick=\"quickchart('df-65fbc6c1-71c6-40fd-97a3-a4742930da2a')\"\n",
              "            title=\"Suggest charts\"\n",
              "            style=\"display:none;\">\n",
              "\n",
              "<svg xmlns=\"http://www.w3.org/2000/svg\" height=\"24px\"viewBox=\"0 0 24 24\"\n",
              "     width=\"24px\">\n",
              "    <g>\n",
              "        <path d=\"M19 3H5c-1.1 0-2 .9-2 2v14c0 1.1.9 2 2 2h14c1.1 0 2-.9 2-2V5c0-1.1-.9-2-2-2zM9 17H7v-7h2v7zm4 0h-2V7h2v10zm4 0h-2v-4h2v4z\"/>\n",
              "    </g>\n",
              "</svg>\n",
              "  </button>\n",
              "\n",
              "<style>\n",
              "  .colab-df-quickchart {\n",
              "      --bg-color: #E8F0FE;\n",
              "      --fill-color: #1967D2;\n",
              "      --hover-bg-color: #E2EBFA;\n",
              "      --hover-fill-color: #174EA6;\n",
              "      --disabled-fill-color: #AAA;\n",
              "      --disabled-bg-color: #DDD;\n",
              "  }\n",
              "\n",
              "  [theme=dark] .colab-df-quickchart {\n",
              "      --bg-color: #3B4455;\n",
              "      --fill-color: #D2E3FC;\n",
              "      --hover-bg-color: #434B5C;\n",
              "      --hover-fill-color: #FFFFFF;\n",
              "      --disabled-bg-color: #3B4455;\n",
              "      --disabled-fill-color: #666;\n",
              "  }\n",
              "\n",
              "  .colab-df-quickchart {\n",
              "    background-color: var(--bg-color);\n",
              "    border: none;\n",
              "    border-radius: 50%;\n",
              "    cursor: pointer;\n",
              "    display: none;\n",
              "    fill: var(--fill-color);\n",
              "    height: 32px;\n",
              "    padding: 0;\n",
              "    width: 32px;\n",
              "  }\n",
              "\n",
              "  .colab-df-quickchart:hover {\n",
              "    background-color: var(--hover-bg-color);\n",
              "    box-shadow: 0 1px 2px rgba(60, 64, 67, 0.3), 0 1px 3px 1px rgba(60, 64, 67, 0.15);\n",
              "    fill: var(--button-hover-fill-color);\n",
              "  }\n",
              "\n",
              "  .colab-df-quickchart-complete:disabled,\n",
              "  .colab-df-quickchart-complete:disabled:hover {\n",
              "    background-color: var(--disabled-bg-color);\n",
              "    fill: var(--disabled-fill-color);\n",
              "    box-shadow: none;\n",
              "  }\n",
              "\n",
              "  .colab-df-spinner {\n",
              "    border: 2px solid var(--fill-color);\n",
              "    border-color: transparent;\n",
              "    border-bottom-color: var(--fill-color);\n",
              "    animation:\n",
              "      spin 1s steps(1) infinite;\n",
              "  }\n",
              "\n",
              "  @keyframes spin {\n",
              "    0% {\n",
              "      border-color: transparent;\n",
              "      border-bottom-color: var(--fill-color);\n",
              "      border-left-color: var(--fill-color);\n",
              "    }\n",
              "    20% {\n",
              "      border-color: transparent;\n",
              "      border-left-color: var(--fill-color);\n",
              "      border-top-color: var(--fill-color);\n",
              "    }\n",
              "    30% {\n",
              "      border-color: transparent;\n",
              "      border-left-color: var(--fill-color);\n",
              "      border-top-color: var(--fill-color);\n",
              "      border-right-color: var(--fill-color);\n",
              "    }\n",
              "    40% {\n",
              "      border-color: transparent;\n",
              "      border-right-color: var(--fill-color);\n",
              "      border-top-color: var(--fill-color);\n",
              "    }\n",
              "    60% {\n",
              "      border-color: transparent;\n",
              "      border-right-color: var(--fill-color);\n",
              "    }\n",
              "    80% {\n",
              "      border-color: transparent;\n",
              "      border-right-color: var(--fill-color);\n",
              "      border-bottom-color: var(--fill-color);\n",
              "    }\n",
              "    90% {\n",
              "      border-color: transparent;\n",
              "      border-bottom-color: var(--fill-color);\n",
              "    }\n",
              "  }\n",
              "</style>\n",
              "\n",
              "  <script>\n",
              "    async function quickchart(key) {\n",
              "      const quickchartButtonEl =\n",
              "        document.querySelector('#' + key + ' button');\n",
              "      quickchartButtonEl.disabled = true;  // To prevent multiple clicks.\n",
              "      quickchartButtonEl.classList.add('colab-df-spinner');\n",
              "      try {\n",
              "        const charts = await google.colab.kernel.invokeFunction(\n",
              "            'suggestCharts', [key], {});\n",
              "      } catch (error) {\n",
              "        console.error('Error during call to suggestCharts:', error);\n",
              "      }\n",
              "      quickchartButtonEl.classList.remove('colab-df-spinner');\n",
              "      quickchartButtonEl.classList.add('colab-df-quickchart-complete');\n",
              "    }\n",
              "    (() => {\n",
              "      let quickchartButtonEl =\n",
              "        document.querySelector('#df-65fbc6c1-71c6-40fd-97a3-a4742930da2a button');\n",
              "      quickchartButtonEl.style.display =\n",
              "        google.colab.kernel.accessAllowed ? 'block' : 'none';\n",
              "    })();\n",
              "  </script>\n",
              "</div>\n",
              "\n",
              "    </div>\n",
              "  </div>\n"
            ],
            "application/vnd.google.colaboratory.intrinsic+json": {
              "type": "dataframe",
              "variable_name": "df_train",
              "summary": "{\n  \"name\": \"df_train\",\n  \"rows\": 4996,\n  \"fields\": [\n    {\n      \"column\": \"label\",\n      \"properties\": {\n        \"dtype\": \"number\",\n        \"std\": 0,\n        \"min\": 0,\n        \"max\": 1,\n        \"num_unique_values\": 2,\n        \"samples\": [\n          0,\n          1\n        ],\n        \"semantic_type\": \"\",\n        \"description\": \"\"\n      }\n    },\n    {\n      \"column\": \"age\",\n      \"properties\": {\n        \"dtype\": \"number\",\n        \"std\": 18,\n        \"min\": 15,\n        \"max\": 113,\n        \"num_unique_values\": 94,\n        \"samples\": [\n          16,\n          18\n        ],\n        \"semantic_type\": \"\",\n        \"description\": \"\"\n      }\n    },\n    {\n      \"column\": \"ageRange\",\n      \"properties\": {\n        \"dtype\": \"category\",\n        \"num_unique_values\": 4,\n        \"samples\": [\n          \"15-24\",\n          \"65+\"\n        ],\n        \"semantic_type\": \"\",\n        \"description\": \"\"\n      }\n    },\n    {\n      \"column\": \"id\",\n      \"properties\": {\n        \"dtype\": \"number\",\n        \"std\": 1459,\n        \"min\": 238,\n        \"max\": 5406,\n        \"num_unique_values\": 4996,\n        \"samples\": [\n          397,\n          4784\n        ],\n        \"semantic_type\": \"\",\n        \"description\": \"\"\n      }\n    },\n    {\n      \"column\": \"text\",\n      \"properties\": {\n        \"dtype\": \"string\",\n        \"num_unique_values\": 4989,\n        \"samples\": [\n          \"Bought some Emerica Jeans which were reduced from \\u00a345 to \\u00a312.50, they're amazing value! Delivery was hassle free too, even at Royal Mail 2nd Class. Overall, very happy with UrbanSurfer and will definitely shop again from their wide selection of shoes!\",\n          \"Have always been pleased with sales and service. Wish there were more reviews... 9.5 times out of 10 I always buy from here!\"\n        ],\n        \"semantic_type\": \"\",\n        \"description\": \"\"\n      }\n    }\n  ]\n}"
            }
          },
          "metadata": {},
          "execution_count": 17
        }
      ]
    },
    {
      "cell_type": "markdown",
      "source": [
        "# 1. Data Count"
      ],
      "metadata": {
        "id": "LbtHq8y3SRk-"
      }
    },
    {
      "cell_type": "code",
      "source": [
        "print(\"Train Data count:\", len(df_train))\n",
        "print(\"Test Data count:\", len(df_test))"
      ],
      "metadata": {
        "colab": {
          "base_uri": "https://localhost:8080/"
        },
        "id": "rYWrARAwSRwB",
        "outputId": "e840b2c3-ffdb-4ecb-b3d0-2398ea805945"
      },
      "execution_count": null,
      "outputs": [
        {
          "output_type": "stream",
          "name": "stdout",
          "text": [
            "Train Data count: 4996\n",
            "Test Data count: 403\n"
          ]
        }
      ]
    },
    {
      "cell_type": "markdown",
      "source": [
        "# 2. Drop duplicates and NaN from Train data\n",
        "Since we will be using the train data to train the model, it's best to drop the duplicates."
      ],
      "metadata": {
        "id": "0ZMutYtX4zka"
      }
    },
    {
      "cell_type": "code",
      "source": [
        "print(\"Before dropping:\")\n",
        "print(df_train[\"label\"].value_counts())\n",
        "df_train.isnull().values.any()\n",
        "df_train = df_train.drop_duplicates()\n",
        "\n",
        "print(\"After dropping:\")\n",
        "print(df_train[\"label\"].value_counts())\n"
      ],
      "metadata": {
        "colab": {
          "base_uri": "https://localhost:8080/"
        },
        "id": "mYPWaMq441Yu",
        "outputId": "114a9bd5-734f-4932-c4f2-1d0e2b7f4096"
      },
      "execution_count": null,
      "outputs": [
        {
          "output_type": "stream",
          "name": "stdout",
          "text": [
            "Before dropping:\n",
            "label\n",
            "0    2501\n",
            "1    2495\n",
            "Name: count, dtype: int64\n",
            "After dropping:\n",
            "label\n",
            "0    2501\n",
            "1    2495\n",
            "Name: count, dtype: int64\n"
          ]
        }
      ]
    },
    {
      "cell_type": "markdown",
      "source": [
        "\n",
        "> **Note after running the above cell:** There are no duplicates in the data"
      ],
      "metadata": {
        "id": "v5lW4uVH6Flk"
      }
    },
    {
      "cell_type": "markdown",
      "source": [
        "# 3. Label distribution"
      ],
      "metadata": {
        "id": "OMA72N_g4sFv"
      }
    },
    {
      "cell_type": "markdown",
      "source": [
        "### 3.1 Gender Label Distribution"
      ],
      "metadata": {
        "id": "eQQsFVhhIK7T"
      }
    },
    {
      "cell_type": "code",
      "source": [
        "print(df_train[\"label\"].value_counts())"
      ],
      "metadata": {
        "colab": {
          "base_uri": "https://localhost:8080/"
        },
        "id": "zuGXdtW54sbR",
        "outputId": "c5824329-9f42-4760-aa4d-2fe2959c45f6"
      },
      "execution_count": null,
      "outputs": [
        {
          "output_type": "stream",
          "name": "stdout",
          "text": [
            "label\n",
            "0    2501\n",
            "1    2495\n",
            "Name: count, dtype: int64\n"
          ]
        }
      ]
    },
    {
      "cell_type": "markdown",
      "source": [
        "\n",
        "\n",
        "> Visualizing the above values\n",
        "\n"
      ],
      "metadata": {
        "id": "FLrhzi7fB7hl"
      }
    },
    {
      "cell_type": "code",
      "source": [
        "df_train.label.value_counts().sort_index(ascending=True).plot(kind='bar')\n",
        "plt.xlabel(\"Label\")\n",
        "plt.ylabel(\"Data Count\")\n",
        "plt.title('Gender Label Distribution')\n",
        "plt.show()"
      ],
      "metadata": {
        "colab": {
          "base_uri": "https://localhost:8080/",
          "height": 467
        },
        "id": "JXZkv4za44FB",
        "outputId": "402d6847-be23-4221-db5d-3f2567869e82"
      },
      "execution_count": null,
      "outputs": [
        {
          "output_type": "display_data",
          "data": {
            "text/plain": [
              "<Figure size 640x480 with 1 Axes>"
            ],
            "image/png": "[encoded data removed]"
          },
          "metadata": {}
        }
      ]
    },
    {
      "cell_type": "markdown",
      "source": [
        "\n",
        "> <b> Note:</b> As seen in the figure, data is balanced. <br> And there are two labels 0 and 1 which is \"Female\" and \"Male\""
      ],
      "metadata": {
        "id": "diQvnasw6khq"
      }
    },
    {
      "cell_type": "markdown",
      "source": [
        "### 3.2 Age Label Distribution"
      ],
      "metadata": {
        "id": "r6I8aAYlIQmq"
      }
    },
    {
      "cell_type": "code",
      "source": [
        "print(df_train[\"ageRange\"].value_counts())"
      ],
      "metadata": {
        "colab": {
          "base_uri": "https://localhost:8080/"
        },
        "outputId": "ce3d34c7-9b09-4459-8116-86eee1b32858",
        "id": "1V5BFWXLIQmr"
      },
      "execution_count": null,
      "outputs": [
        {
          "output_type": "stream",
          "name": "stdout",
          "text": [
            "ageRange\n",
            "25-54    2413\n",
            "65+       981\n",
            "15-24     807\n",
            "55-64     795\n",
            "Name: count, dtype: int64\n"
          ]
        }
      ]
    },
    {
      "cell_type": "markdown",
      "source": [
        "\n",
        "\n",
        "> Visualizing the above values\n",
        "\n"
      ],
      "metadata": {
        "id": "KmjfaqqWIQmr"
      }
    },
    {
      "cell_type": "code",
      "source": [
        "df_train.ageRange.value_counts().sort_index(ascending=True).plot(kind='bar')\n",
        "plt.xlabel(\"Label\")\n",
        "plt.ylabel(\"Data Count\")\n",
        "plt.title('Age Label Distribution')\n",
        "plt.show()"
      ],
      "metadata": {
        "colab": {
          "base_uri": "https://localhost:8080/",
          "height": 498
        },
        "outputId": "ef9cb514-d9c9-4908-a803-fc729da0d980",
        "id": "NW97GSMUIQmr"
      },
      "execution_count": null,
      "outputs": [
        {
          "output_type": "display_data",
          "data": {
            "text/plain": [
              "<Figure size 640x480 with 1 Axes>"
            ],
            "image/png": "[encoded data removed]"
          },
          "metadata": {}
        }
      ]
    },
    {
      "cell_type": "markdown",
      "source": [
        "\n",
        "> <b> Note:</b> As seen in the figure, data is imbalanced as data for 25-54 is way high compared to other labels<br> There are four labels: 15-24, 25-54, 55-64, 65+"
      ],
      "metadata": {
        "id": "ov7ymN7BIQms"
      }
    },
    {
      "cell_type": "markdown",
      "source": [
        "# 4. Sentence Length\n",
        "Note on library: <br>\n",
        "<b>NLTK library</b> is faster but has issues in tokenizing sentences. <br> Example: \"Use a pen to write (only black pen.).\" and nltk sentence tokenizer returns a list of 2 sentences ['Use a pen to write (only black pen.', ').']\n",
        "<br>\n",
        "<br>\n",
        "<b>Spacy</b> is slow but handles such text as it returned 1 sentence ['Use a pen to write (only black pen.).']\n",
        "\n"
      ],
      "metadata": {
        "id": "JzcNAT-q8pxw"
      }
    },
    {
      "cell_type": "code",
      "source": [
        "def sent_len(text):\n",
        "  doc = nlp(text)\n",
        "  sents_list = [sent.text for sent in doc.sents]\n",
        "  return len(sents_list)\n"
      ],
      "metadata": {
        "id": "POylnh-J55-h"
      },
      "execution_count": null,
      "outputs": []
    },
    {
      "cell_type": "markdown",
      "source": [
        "### 4.1. Getting the sentence length for the data\n",
        "**NOTE:** it takes approx 2 minutes to run this cell"
      ],
      "metadata": {
        "id": "Ps3EXs6Kwm1A"
      }
    },
    {
      "cell_type": "code",
      "source": [
        "import time\n",
        "st = time.time()\n",
        "df_train[\"text_sent_count\"] = df_train[\"text\"].apply(sent_len)\n",
        "en = time.time()\n",
        "print(en-st)\n",
        "df_train.head(2)"
      ],
      "metadata": {
        "colab": {
          "base_uri": "https://localhost:8080/",
          "height": 129
        },
        "id": "3BVgDISQ9bDv",
        "outputId": "d92cf83e-61e8-4fc2-ecbf-2ad5243882d8"
      },
      "execution_count": null,
      "outputs": [
        {
          "output_type": "stream",
          "name": "stdout",
          "text": [
            "101.56892275810242\n"
          ]
        },
        {
          "output_type": "execute_result",
          "data": {
            "text/plain": [
              "   label  age ageRange   id  \\\n",
              "0      1   42    25-54  238   \n",
              "1      1   42    25-54  239   \n",
              "\n",
              "                                                text  text_sent_count  \n",
              "0                      Not the best overall service.                1  \n",
              "1  Since it is the #1 social network however with...                1  "
            ],
            "text/html": [
              "\n",
              "  <div id=\"df-7b2b121e-daf1-491e-a372-0273d0018c49\" class=\"colab-df-container\">\n",
              "    <div>\n",
              "<style scoped>\n",
              "    .dataframe tbody tr th:only-of-type {\n",
              "        vertical-align: middle;\n",
              "    }\n",
              "\n",
              "    .dataframe tbody tr th {\n",
              "        vertical-align: top;\n",
              "    }\n",
              "\n",
              "    .dataframe thead th {\n",
              "        text-align: right;\n",
              "    }\n",
              "</style>\n",
              "<table border=\"1\" class=\"dataframe\">\n",
              "  <thead>\n",
              "    <tr style=\"text-align: right;\">\n",
              "      <th></th>\n",
              "      <th>label</th>\n",
              "      <th>age</th>\n",
              "      <th>ageRange</th>\n",
              "      <th>id</th>\n",
              "      <th>text</th>\n",
              "      <th>text_sent_count</th>\n",
              "    </tr>\n",
              "  </thead>\n",
              "  <tbody>\n",
              "    <tr>\n",
              "      <th>0</th>\n",
              "      <td>1</td>\n",
              "      <td>42</td>\n",
              "      <td>25-54</td>\n",
              "      <td>238</td>\n",
              "      <td>Not the best overall service.</td>\n",
              "      <td>1</td>\n",
              "    </tr>\n",
              "    <tr>\n",
              "      <th>1</th>\n",
              "      <td>1</td>\n",
              "      <td>42</td>\n",
              "      <td>25-54</td>\n",
              "      <td>239</td>\n",
              "      <td>Since it is the #1 social network however with...</td>\n",
              "      <td>1</td>\n",
              "    </tr>\n",
              "  </tbody>\n",
              "</table>\n",
              "</div>\n",
              "    <div class=\"colab-df-buttons\">\n",
              "\n",
              "  <div class=\"colab-df-container\">\n",
              "    <button class=\"colab-df-convert\" onclick=\"convertToInteractive('df-7b2b121e-daf1-491e-a372-0273d0018c49')\"\n",
              "            title=\"Convert this dataframe to an interactive table.\"\n",
              "            style=\"display:none;\">\n",
              "\n",
              "  <svg xmlns=\"http://www.w3.org/2000/svg\" height=\"24px\" viewBox=\"0 -960 960 960\">\n",
              "    <path d=\"M120-120v-720h720v720H120Zm60-500h600v-160H180v160Zm220 220h160v-160H400v160Zm0 220h160v-160H400v160ZM180-400h160v-160H180v160Zm440 0h160v-160H620v160ZM180-180h160v-160H180v160Zm440 0h160v-160H620v160Z\"/>\n",
              "  </svg>\n",
              "    </button>\n",
              "\n",
              "  <style>\n",
              "    .colab-df-container {\n",
              "      display:flex;\n",
              "      gap: 12px;\n",
              "    }\n",
              "\n",
              "    .colab-df-convert {\n",
              "      background-color: #E8F0FE;\n",
              "      border: none;\n",
              "      border-radius: 50%;\n",
              "      cursor: pointer;\n",
              "      display: none;\n",
              "      fill: #1967D2;\n",
              "      height: 32px;\n",
              "      padding: 0 0 0 0;\n",
              "      width: 32px;\n",
              "    }\n",
              "\n",
              "    .colab-df-convert:hover {\n",
              "      background-color: #E2EBFA;\n",
              "      box-shadow: 0px 1px 2px rgba(60, 64, 67, 0.3), 0px 1px 3px 1px rgba(60, 64, 67, 0.15);\n",
              "      fill: #174EA6;\n",
              "    }\n",
              "\n",
              "    .colab-df-buttons div {\n",
              "      margin-bottom: 4px;\n",
              "    }\n",
              "\n",
              "    [theme=dark] .colab-df-convert {\n",
              "      background-color: #3B4455;\n",
              "      fill: #D2E3FC;\n",
              "    }\n",
              "\n",
              "    [theme=dark] .colab-df-convert:hover {\n",
              "      background-color: #434B5C;\n",
              "      box-shadow: 0px 1px 3px 1px rgba(0, 0, 0, 0.15);\n",
              "      filter: drop-shadow(0px 1px 2px rgba(0, 0, 0, 0.3));\n",
              "      fill: #FFFFFF;\n",
              "    }\n",
              "  </style>\n",
              "\n",
              "    <script>\n",
              "      const buttonEl =\n",
              "        document.querySelector('#df-7b2b121e-daf1-491e-a372-0273d0018c49 button.colab-df-convert');\n",
              "      buttonEl.style.display =\n",
              "        google.colab.kernel.accessAllowed ? 'block' : 'none';\n",
              "\n",
              "      async function convertToInteractive(key) {\n",
              "        const element = document.querySelector('#df-7b2b121e-daf1-491e-a372-0273d0018c49');\n",
              "        const dataTable =\n",
              "          await google.colab.kernel.invokeFunction('convertToInteractive',\n",
              "                                                    [key], {});\n",
              "        if (!dataTable) return;\n",
              "\n",
              "        const docLinkHtml = 'Like what you see? Visit the ' +\n",
              "          '<a target=\"_blank\" href=https://colab.research.google.com/notebooks/data_table.ipynb>data table notebook</a>'\n",
              "          + ' to learn more about interactive tables.';\n",
              "        element.innerHTML = '';\n",
              "        dataTable['output_type'] = 'display_data';\n",
              "        await google.colab.output.renderOutput(dataTable, element);\n",
              "        const docLink = document.createElement('div');\n",
              "        docLink.innerHTML = docLinkHtml;\n",
              "        element.appendChild(docLink);\n",
              "      }\n",
              "    </script>\n",
              "  </div>\n",
              "\n",
              "\n",
              "<div id=\"df-2fc61e73-8403-4226-86a7-b47bec52a6e3\">\n",
              "  <button class=\"colab-df-quickchart\" onclick=\"quickchart('df-2fc61e73-8403-4226-86a7-b47bec52a6e3')\"\n",
              "            title=\"Suggest charts\"\n",
              "            style=\"display:none;\">\n",
              "\n",
              "<svg xmlns=\"http://www.w3.org/2000/svg\" height=\"24px\"viewBox=\"0 0 24 24\"\n",
              "     width=\"24px\">\n",
              "    <g>\n",
              "        <path d=\"M19 3H5c-1.1 0-2 .9-2 2v14c0 1.1.9 2 2 2h14c1.1 0 2-.9 2-2V5c0-1.1-.9-2-2-2zM9 17H7v-7h2v7zm4 0h-2V7h2v10zm4 0h-2v-4h2v4z\"/>\n",
              "    </g>\n",
              "</svg>\n",
              "  </button>\n",
              "\n",
              "<style>\n",
              "  .colab-df-quickchart {\n",
              "      --bg-color: #E8F0FE;\n",
              "      --fill-color: #1967D2;\n",
              "      --hover-bg-color: #E2EBFA;\n",
              "      --hover-fill-color: #174EA6;\n",
              "      --disabled-fill-color: #AAA;\n",
              "      --disabled-bg-color: #DDD;\n",
              "  }\n",
              "\n",
              "  [theme=dark] .colab-df-quickchart {\n",
              "      --bg-color: #3B4455;\n",
              "      --fill-color: #D2E3FC;\n",
              "      --hover-bg-color: #434B5C;\n",
              "      --hover-fill-color: #FFFFFF;\n",
              "      --disabled-bg-color: #3B4455;\n",
              "      --disabled-fill-color: #666;\n",
              "  }\n",
              "\n",
              "  .colab-df-quickchart {\n",
              "    background-color: var(--bg-color);\n",
              "    border: none;\n",
              "    border-radius: 50%;\n",
              "    cursor: pointer;\n",
              "    display: none;\n",
              "    fill: var(--fill-color);\n",
              "    height: 32px;\n",
              "    padding: 0;\n",
              "    width: 32px;\n",
              "  }\n",
              "\n",
              "  .colab-df-quickchart:hover {\n",
              "    background-color: var(--hover-bg-color);\n",
              "    box-shadow: 0 1px 2px rgba(60, 64, 67, 0.3), 0 1px 3px 1px rgba(60, 64, 67, 0.15);\n",
              "    fill: var(--button-hover-fill-color);\n",
              "  }\n",
              "\n",
              "  .colab-df-quickchart-complete:disabled,\n",
              "  .colab-df-quickchart-complete:disabled:hover {\n",
              "    background-color: var(--disabled-bg-color);\n",
              "    fill: var(--disabled-fill-color);\n",
              "    box-shadow: none;\n",
              "  }\n",
              "\n",
              "  .colab-df-spinner {\n",
              "    border: 2px solid var(--fill-color);\n",
              "    border-color: transparent;\n",
              "    border-bottom-color: var(--fill-color);\n",
              "    animation:\n",
              "      spin 1s steps(1) infinite;\n",
              "  }\n",
              "\n",
              "  @keyframes spin {\n",
              "    0% {\n",
              "      border-color: transparent;\n",
              "      border-bottom-color: var(--fill-color);\n",
              "      border-left-color: var(--fill-color);\n",
              "    }\n",
              "    20% {\n",
              "      border-color: transparent;\n",
              "      border-left-color: var(--fill-color);\n",
              "      border-top-color: var(--fill-color);\n",
              "    }\n",
              "    30% {\n",
              "      border-color: transparent;\n",
              "      border-left-color: var(--fill-color);\n",
              "      border-top-color: var(--fill-color);\n",
              "      border-right-color: var(--fill-color);\n",
              "    }\n",
              "    40% {\n",
              "      border-color: transparent;\n",
              "      border-right-color: var(--fill-color);\n",
              "      border-top-color: var(--fill-color);\n",
              "    }\n",
              "    60% {\n",
              "      border-color: transparent;\n",
              "      border-right-color: var(--fill-color);\n",
              "    }\n",
              "    80% {\n",
              "      border-color: transparent;\n",
              "      border-right-color: var(--fill-color);\n",
              "      border-bottom-color: var(--fill-color);\n",
              "    }\n",
              "    90% {\n",
              "      border-color: transparent;\n",
              "      border-bottom-color: var(--fill-color);\n",
              "    }\n",
              "  }\n",
              "</style>\n",
              "\n",
              "  <script>\n",
              "    async function quickchart(key) {\n",
              "      const quickchartButtonEl =\n",
              "        document.querySelector('#' + key + ' button');\n",
              "      quickchartButtonEl.disabled = true;  // To prevent multiple clicks.\n",
              "      quickchartButtonEl.classList.add('colab-df-spinner');\n",
              "      try {\n",
              "        const charts = await google.colab.kernel.invokeFunction(\n",
              "            'suggestCharts', [key], {});\n",
              "      } catch (error) {\n",
              "        console.error('Error during call to suggestCharts:', error);\n",
              "      }\n",
              "      quickchartButtonEl.classList.remove('colab-df-spinner');\n",
              "      quickchartButtonEl.classList.add('colab-df-quickchart-complete');\n",
              "    }\n",
              "    (() => {\n",
              "      let quickchartButtonEl =\n",
              "        document.querySelector('#df-2fc61e73-8403-4226-86a7-b47bec52a6e3 button');\n",
              "      quickchartButtonEl.style.display =\n",
              "        google.colab.kernel.accessAllowed ? 'block' : 'none';\n",
              "    })();\n",
              "  </script>\n",
              "</div>\n",
              "\n",
              "    </div>\n",
              "  </div>\n"
            ],
            "application/vnd.google.colaboratory.intrinsic+json": {
              "type": "dataframe",
              "variable_name": "df_train",
              "summary": "{\n  \"name\": \"df_train\",\n  \"rows\": 4996,\n  \"fields\": [\n    {\n      \"column\": \"label\",\n      \"properties\": {\n        \"dtype\": \"number\",\n        \"std\": 0,\n        \"min\": 0,\n        \"max\": 1,\n        \"num_unique_values\": 2,\n        \"samples\": [\n          0,\n          1\n        ],\n        \"semantic_type\": \"\",\n        \"description\": \"\"\n      }\n    },\n    {\n      \"column\": \"age\",\n      \"properties\": {\n        \"dtype\": \"number\",\n        \"std\": 18,\n        \"min\": 15,\n        \"max\": 113,\n        \"num_unique_values\": 94,\n        \"samples\": [\n          16,\n          18\n        ],\n        \"semantic_type\": \"\",\n        \"description\": \"\"\n      }\n    },\n    {\n      \"column\": \"ageRange\",\n      \"properties\": {\n        \"dtype\": \"category\",\n        \"num_unique_values\": 4,\n        \"samples\": [\n          \"15-24\",\n          \"65+\"\n        ],\n        \"semantic_type\": \"\",\n        \"description\": \"\"\n      }\n    },\n    {\n      \"column\": \"id\",\n      \"properties\": {\n        \"dtype\": \"number\",\n        \"std\": 1459,\n        \"min\": 238,\n        \"max\": 5406,\n        \"num_unique_values\": 4996,\n        \"samples\": [\n          397,\n          4784\n        ],\n        \"semantic_type\": \"\",\n        \"description\": \"\"\n      }\n    },\n    {\n      \"column\": \"text\",\n      \"properties\": {\n        \"dtype\": \"string\",\n        \"num_unique_values\": 4989,\n        \"samples\": [\n          \"Bought some Emerica Jeans which were reduced from \\u00a345 to \\u00a312.50, they're amazing value! Delivery was hassle free too, even at Royal Mail 2nd Class. Overall, very happy with UrbanSurfer and will definitely shop again from their wide selection of shoes!\",\n          \"Have always been pleased with sales and service. Wish there were more reviews... 9.5 times out of 10 I always buy from here!\"\n        ],\n        \"semantic_type\": \"\",\n        \"description\": \"\"\n      }\n    },\n    {\n      \"column\": \"text_sent_count\",\n      \"properties\": {\n        \"dtype\": \"number\",\n        \"std\": 3,\n        \"min\": 1,\n        \"max\": 105,\n        \"num_unique_values\": 33,\n        \"samples\": [\n          26,\n          16\n        ],\n        \"semantic_type\": \"\",\n        \"description\": \"\"\n      }\n    }\n  ]\n}"
            }
          },
          "metadata": {},
          "execution_count": 23
        }
      ]
    },
    {
      "cell_type": "code",
      "source": [],
      "metadata": {
        "id": "qkCNf2Zs88fU"
      },
      "execution_count": null,
      "outputs": []
    },
    {
      "cell_type": "markdown",
      "source": [
        "### 4.2 Min and Max sentence length"
      ],
      "metadata": {
        "id": "RoCJj45J88Mg"
      }
    },
    {
      "cell_type": "code",
      "source": [
        "df_train['text_sent_count'].agg(['min', 'max'])"
      ],
      "metadata": {
        "id": "RUNW4Jzc9uoT",
        "colab": {
          "base_uri": "https://localhost:8080/"
        },
        "outputId": "a209c9f9-e327-4db7-ba8e-b27c377a9c4b"
      },
      "execution_count": null,
      "outputs": [
        {
          "output_type": "execute_result",
          "data": {
            "text/plain": [
              "min      1\n",
              "max    105\n",
              "Name: text_sent_count, dtype: int64"
            ]
          },
          "metadata": {},
          "execution_count": 24
        }
      ]
    },
    {
      "cell_type": "code",
      "source": [
        "df_train.text_sent_count.value_counts().sort_index(ascending=True).plot(kind='bar')\n",
        "plt.xlabel(\"text_sent_count\")\n",
        "plt.ylabel(\"data count\")\n",
        "plt.title(' Min and Max sentence length')\n",
        "plt.show()"
      ],
      "metadata": {
        "colab": {
          "base_uri": "https://localhost:8080/",
          "height": 484
        },
        "id": "RvjBgh_09Igo",
        "outputId": "234a2a37-05cf-443e-b057-3e2414b29cef"
      },
      "execution_count": null,
      "outputs": [
        {
          "output_type": "display_data",
          "data": {
            "text/plain": [
              "<Figure size 640x480 with 1 Axes>"
            ],
            "image/png": "[encoded data removed]"
          },
          "metadata": {}
        }
      ]
    },
    {
      "cell_type": "markdown",
      "source": [
        "Note: from the figure, we can see that the user uses sentences length ranging from 1-8 alot."
      ],
      "metadata": {
        "id": "1FsAW22NyA4u"
      }
    },
    {
      "cell_type": "markdown",
      "source": [
        "# 4.3 Top 20 sentence length\n",
        "Steps:\n",
        "- sort the values\n",
        "- take top 20\n",
        "- plot"
      ],
      "metadata": {
        "id": "6WPYVs6jEF_z"
      }
    },
    {
      "cell_type": "code",
      "source": [
        "\n",
        "x = df_train.text_sent_count.value_counts().sort_index(ascending=True)\n",
        "x = x.sort_values(ascending=False)\n",
        "x= x[:20]\n",
        "x.plot(kind='bar')\n",
        "plt.xlabel(\"word length\")\n",
        "plt.ylabel(\"data count\")\n",
        "plt.title('Sentence length')\n",
        "\n",
        "plt.show()"
      ],
      "metadata": {
        "colab": {
          "base_uri": "https://localhost:8080/",
          "height": 475
        },
        "outputId": "b62769ab-fb6d-46d9-d9f5-aa55d5aa6712",
        "id": "TPkTF1y2EF_0"
      },
      "execution_count": null,
      "outputs": [
        {
          "output_type": "display_data",
          "data": {
            "text/plain": [
              "<Figure size 640x480 with 1 Axes>"
            ],
            "image/png": "[encoded data removed]"
          },
          "metadata": {}
        }
      ]
    },
    {
      "cell_type": "code",
      "source": [],
      "metadata": {
        "id": "b-Cyj-9fEWoR"
      },
      "execution_count": null,
      "outputs": []
    },
    {
      "cell_type": "markdown",
      "source": [
        "# 4.4 Bottom 20 sentence length\n"
      ],
      "metadata": {
        "id": "Sn2GqJRPEW2y"
      }
    },
    {
      "cell_type": "code",
      "source": [
        "x = df_train.text_sent_count.value_counts().sort_index(ascending=True)\n",
        "x = x.sort_values(ascending=True)\n",
        "x= x[:20]\n",
        "x.plot(kind='bar')\n",
        "plt.xlabel(\"word length\")\n",
        "plt.ylabel(\"data count\")\n",
        "plt.title('Sentence length')\n",
        "\n",
        "plt.show()"
      ],
      "metadata": {
        "colab": {
          "base_uri": "https://localhost:8080/",
          "height": 484
        },
        "outputId": "d12f036b-d81f-40df-feb9-0bea55a8de9e",
        "id": "WeHSVAV_EW2z"
      },
      "execution_count": null,
      "outputs": [
        {
          "output_type": "display_data",
          "data": {
            "text/plain": [
              "<Figure size 640x480 with 1 Axes>"
            ],
            "image/png": "[encoded data removed]"
          },
          "metadata": {}
        }
      ]
    },
    {
      "cell_type": "markdown",
      "source": [
        "### 9.5 Let's check rows that has the longest sentence length i.e 105"
      ],
      "metadata": {
        "id": "R95uZJljDSHH"
      }
    },
    {
      "cell_type": "code",
      "source": [
        "df_train[df_train['text_sent_count']==105]"
      ],
      "metadata": {
        "colab": {
          "base_uri": "https://localhost:8080/",
          "height": 81
        },
        "id": "6AHoPhD2DYBp",
        "outputId": "61ee9078-f6a8-4253-b90a-4694beb59633"
      },
      "execution_count": null,
      "outputs": [
        {
          "output_type": "execute_result",
          "data": {
            "text/plain": [
              "      label  age ageRange    id  \\\n",
              "4051      1   59    55-64  4461   \n",
              "\n",
              "                                                   text  text_sent_count  \\\n",
              "4051  BUYER BEWARE !!! How Nissan Of Chesapeake GOT ...              105   \n",
              "\n",
              "      text_word_count  \n",
              "4051             1430  "
            ],
            "text/html": [
              "\n",
              "  <div id=\"df-7904ad6e-7f9a-4fed-8758-3c8ac7726ba4\" class=\"colab-df-container\">\n",
              "    <div>\n",
              "<style scoped>\n",
              "    .dataframe tbody tr th:only-of-type {\n",
              "        vertical-align: middle;\n",
              "    }\n",
              "\n",
              "    .dataframe tbody tr th {\n",
              "        vertical-align: top;\n",
              "    }\n",
              "\n",
              "    .dataframe thead th {\n",
              "        text-align: right;\n",
              "    }\n",
              "</style>\n",
              "<table border=\"1\" class=\"dataframe\">\n",
              "  <thead>\n",
              "    <tr style=\"text-align: right;\">\n",
              "      <th></th>\n",
              "      <th>label</th>\n",
              "      <th>age</th>\n",
              "      <th>ageRange</th>\n",
              "      <th>id</th>\n",
              "      <th>text</th>\n",
              "      <th>text_sent_count</th>\n",
              "      <th>text_word_count</th>\n",
              "    </tr>\n",
              "  </thead>\n",
              "  <tbody>\n",
              "    <tr>\n",
              "      <th>4051</th>\n",
              "      <td>1</td>\n",
              "      <td>59</td>\n",
              "      <td>55-64</td>\n",
              "      <td>4461</td>\n",
              "      <td>BUYER BEWARE !!! How Nissan Of Chesapeake GOT ...</td>\n",
              "      <td>105</td>\n",
              "      <td>1430</td>\n",
              "    </tr>\n",
              "  </tbody>\n",
              "</table>\n",
              "</div>\n",
              "    <div class=\"colab-df-buttons\">\n",
              "\n",
              "  <div class=\"colab-df-container\">\n",
              "    <button class=\"colab-df-convert\" onclick=\"convertToInteractive('df-7904ad6e-7f9a-4fed-8758-3c8ac7726ba4')\"\n",
              "            title=\"Convert this dataframe to an interactive table.\"\n",
              "            style=\"display:none;\">\n",
              "\n",
              "  <svg xmlns=\"http://www.w3.org/2000/svg\" height=\"24px\" viewBox=\"0 -960 960 960\">\n",
              "    <path d=\"M120-120v-720h720v720H120Zm60-500h600v-160H180v160Zm220 220h160v-160H400v160Zm0 220h160v-160H400v160ZM180-400h160v-160H180v160Zm440 0h160v-160H620v160ZM180-180h160v-160H180v160Zm440 0h160v-160H620v160Z\"/>\n",
              "  </svg>\n",
              "    </button>\n",
              "\n",
              "  <style>\n",
              "    .colab-df-container {\n",
              "      display:flex;\n",
              "      gap: 12px;\n",
              "    }\n",
              "\n",
              "    .colab-df-convert {\n",
              "      background-color: #E8F0FE;\n",
              "      border: none;\n",
              "      border-radius: 50%;\n",
              "      cursor: pointer;\n",
              "      display: none;\n",
              "      fill: #1967D2;\n",
              "      height: 32px;\n",
              "      padding: 0 0 0 0;\n",
              "      width: 32px;\n",
              "    }\n",
              "\n",
              "    .colab-df-convert:hover {\n",
              "      background-color: #E2EBFA;\n",
              "      box-shadow: 0px 1px 2px rgba(60, 64, 67, 0.3), 0px 1px 3px 1px rgba(60, 64, 67, 0.15);\n",
              "      fill: #174EA6;\n",
              "    }\n",
              "\n",
              "    .colab-df-buttons div {\n",
              "      margin-bottom: 4px;\n",
              "    }\n",
              "\n",
              "    [theme=dark] .colab-df-convert {\n",
              "      background-color: #3B4455;\n",
              "      fill: #D2E3FC;\n",
              "    }\n",
              "\n",
              "    [theme=dark] .colab-df-convert:hover {\n",
              "      background-color: #434B5C;\n",
              "      box-shadow: 0px 1px 3px 1px rgba(0, 0, 0, 0.15);\n",
              "      filter: drop-shadow(0px 1px 2px rgba(0, 0, 0, 0.3));\n",
              "      fill: #FFFFFF;\n",
              "    }\n",
              "  </style>\n",
              "\n",
              "    <script>\n",
              "      const buttonEl =\n",
              "        document.querySelector('#df-7904ad6e-7f9a-4fed-8758-3c8ac7726ba4 button.colab-df-convert');\n",
              "      buttonEl.style.display =\n",
              "        google.colab.kernel.accessAllowed ? 'block' : 'none';\n",
              "\n",
              "      async function convertToInteractive(key) {\n",
              "        const element = document.querySelector('#df-7904ad6e-7f9a-4fed-8758-3c8ac7726ba4');\n",
              "        const dataTable =\n",
              "          await google.colab.kernel.invokeFunction('convertToInteractive',\n",
              "                                                    [key], {});\n",
              "        if (!dataTable) return;\n",
              "\n",
              "        const docLinkHtml = 'Like what you see? Visit the ' +\n",
              "          '<a target=\"_blank\" href=https://colab.research.google.com/notebooks/data_table.ipynb>data table notebook</a>'\n",
              "          + ' to learn more about interactive tables.';\n",
              "        element.innerHTML = '';\n",
              "        dataTable['output_type'] = 'display_data';\n",
              "        await google.colab.output.renderOutput(dataTable, element);\n",
              "        const docLink = document.createElement('div');\n",
              "        docLink.innerHTML = docLinkHtml;\n",
              "        element.appendChild(docLink);\n",
              "      }\n",
              "    </script>\n",
              "  </div>\n",
              "\n",
              "\n",
              "    </div>\n",
              "  </div>\n"
            ],
            "application/vnd.google.colaboratory.intrinsic+json": {
              "type": "dataframe",
              "summary": "{\n  \"name\": \"df_train[df_train['text_sent_count']==105]\",\n  \"rows\": 1,\n  \"fields\": [\n    {\n      \"column\": \"label\",\n      \"properties\": {\n        \"dtype\": \"number\",\n        \"std\": null,\n        \"min\": 1,\n        \"max\": 1,\n        \"num_unique_values\": 1,\n        \"samples\": [\n          1\n        ],\n        \"semantic_type\": \"\",\n        \"description\": \"\"\n      }\n    },\n    {\n      \"column\": \"age\",\n      \"properties\": {\n        \"dtype\": \"number\",\n        \"std\": null,\n        \"min\": 59,\n        \"max\": 59,\n        \"num_unique_values\": 1,\n        \"samples\": [\n          59\n        ],\n        \"semantic_type\": \"\",\n        \"description\": \"\"\n      }\n    },\n    {\n      \"column\": \"ageRange\",\n      \"properties\": {\n        \"dtype\": \"string\",\n        \"num_unique_values\": 1,\n        \"samples\": [\n          \"55-64\"\n        ],\n        \"semantic_type\": \"\",\n        \"description\": \"\"\n      }\n    },\n    {\n      \"column\": \"id\",\n      \"properties\": {\n        \"dtype\": \"number\",\n        \"std\": null,\n        \"min\": 4461,\n        \"max\": 4461,\n        \"num_unique_values\": 1,\n        \"samples\": [\n          4461\n        ],\n        \"semantic_type\": \"\",\n        \"description\": \"\"\n      }\n    },\n    {\n      \"column\": \"text\",\n      \"properties\": {\n        \"dtype\": \"string\",\n        \"num_unique_values\": 1,\n        \"samples\": [\n          \"BUYER BEWARE !!! How Nissan Of Chesapeake GOT AWAY With Charging Me $5K($5,000.00) Above The Sticker Price Of A 2014 Nissan Altima S !!! I Received A Card In The Mail From NOC Telling Me I Owned A 2009 Chrysler 300LX & That My Monthly Payments Were Just $270.00 A Month. They Said They Would Offer 2 Refinance Existing Loan 4 Cheaper Interest Rate Or Trade In My Car Offering Me 10% More Then It Was Worth, Pay Off The Loan, & Give Me A Deal I Could Not Resist On Purchasing A Brand New Car From Them !!! I Called Them & Made An Appointment 4 May 30, 2014 !!! The Sales Team Act As Though They Are Trying Their Best 2 Help U Or Become Your Friends When In Fact What They Are Really Doing Is 2 Get U 2 Drop Your Guard Down So They Can Become Your Worst Enemy & Get As Much Money Out Of U As Possible !!! Here Is How They Conned Me In2 Signing A Binding Contract Paying $200.00 More Each Month 4 The Next 72 Months 4 A Car I Did Not Want !!! Initially I Was Not Even Looking 4 A Brand New Car 2 Purchase But A Used Truck With A 4 Cylinder Engine Since The Car I Owned Had A V-6 Which Used 2 Much Gas !!! It Did Not Take Long 2 Discover Nissan Does Not Even Make A Truck With A 4 Cylinder Engine !!! Then I Was Told I Could Only Receive SPECIAL FINANCING INTEREST RATES & VEHICLE INCENTIVE DISCOUNTS If I Purchased A Brand New Vehicle Such As The Altima !!! I Was Shown What Part Of Their Lot 2 Look Then I Discovered All The Colors Were Mostly White & Black But There Was 1 That Stood Out & It Was Fully Loaded With All The Bells & Whistles So That's The 1 I Chose 2 TEST DRIVE !!! I Was Shocked 2 Discover How This Smaller Vehicle Them My Full Size Chrysler 300 Was Easier 2 Handle & Had A More Comfortable Ride Plus All The Extras 2 Many 2 Mention Here !!! The Sticker Price Was $31K So I Was Quickly Told There Was No way I Would Ever Be Able 2 Afford Monthly Payments !!! Since They Knew I Was Now Hooked On The Exspensive Nissan Altima All I Had 2 Do Was Find A Cheaper Model That I Could Afford Monthly Payments !!! We Had 2 Leave The Dealership & Drive 2 Another Crammed Lot Full Of Vehicles In Order 2 Find An Altima With The Color I Liked !!! I Found A Red Altima That Only Had Hub Caps No Custom Rims & The List Price Was $23K !!! I Dealth With A Salesman & His Manager Who Both Kept Insuring Me How They Would Be Getting Me The Deal Of A Lifetime !!! The Manager Said He Got Me 5.5% Financing Which Was Far Better Then What I Had On The Chrysler 300 When I Purchased That For 8.9 % !!! He Then Said The Payments Would Be $460.00 A Month Never Mentioning 4 How Long !!! I Told Him That Was 2 High So He Said He Could'nt Get Them Lowered Unless I Put Some Money Down !!! I Told Them I Needed Monthly Payments Below $400.00 Each Month So He Tried Hitting Me Up For $1 Grand Down Which I Said I Could'nt Afford !!! He Then Asked How Much I Could Afford & They Would Simply Hold My Check Until The Funds Were There !!! These Guys Are Masters @ Manipulation, Coersion, & Wearing U Down Until U Give In !!! I Told Them Earlier I Was Diabetic & Had Not Had Anything 2 Eat 4 A Few Hours So My Blood Sugar Was Low So I Guess They Knew They Could Take Advantage Of Me !!! My Initial Appointment Was @ 1:30PM & This Was Now Several Hours Later Around 5-6PM !!! I Told Them I Could Afford $500.00 Check But It Would Not Be Good 4 @ Least 2 More Weeks !!! The Payments Were'nt Reduced Under $400.00 But Remained @ $416.00 A Month !!! No Figures Were Ever Discussed Or Seen During The Entire Negotiation !!! I Told Them I Had Just Been Offered $11k(11,000.00) Alread 4 A Trade In On My 2009 Chrysler 300 From the Exact Same Dealarship I Bought It From Less Then A Year & Half Ago !!! The Car Did Not Have 1 Scratch Or Dent On It & Was In Better Shape Now Then It Was When I Bought It & I Had Not Even Put 10K(10,000) Miles On It !!! The Pay Off Amount Was $12K So I Knew I Would Only Have 2 Make Up For $1k Difference Which Would Be Then Added 2 The Price Of The Altima !!! The Card I Received In The Mail From NOC Also Had A Check For $3k($3,000.00) That Could Be Used 2Wards The Purchase Of A New Car Or Used 2 Lower The Sticker Price So I Thought I Was Set !!! By The Time i Finally Got 2 The Finance Office My Blood Sugar Was So Low I Just Signed Every Paper Thrown In Front Of Me & Said Yes 2 Everything Just 2 Try 2 Get The Hell Out Of There As Soon As I Could So I Could Get Something 2 Eat !!! I Never Left The Dealarship Until Almost DARK Outside Which Was @ Least 7-8 Hours After I 1st Arrived There !!! Nissan Only Offers A 3 Year Warranty On Their New Vehicles So I Hurriedly Agreed 2 An additional 3 Yrs.Extended Warranty Which Raised The Monthly Car Payments Back Up To $460.00 For The Next 72 Months !!! Gap Insurance Was also Thrown In There Somewhere !!! Again No Figures Or Prices Were Ever Disclosed B4 Or @ The Signing Of The Contract Other Then ONLY The Monthly Payment AMOUNT !!! I Can Not Tell U Just How Sick I was 3 Days Later After I Left Nissan Of Chesapeake & Discovered Just How Much & BAD They Had Screwed Me !!! They Only Allowed Me $8K($8,000.00) Trade In Value On The Chrysler 300 Which Is The Rock Bottom Price Allowed 4 A ROUGH Trade In Not A Prestige Trade In Like I Gave Them !!! This Automatically Put Me Owing The Payoff Amount Of My Chrysler 300 $4k($4,000.00) Instead Of Just $1000.00 If Tghey Had Given Me THe Amount That My Car Was Worth !!! So Now NOC Can Add The Difference 2 The Price Of The Nissan !!! THey Also Charged Me $2k($2,000.00) 4 The Extended Warranty Which Is Added 2 The Sticker price Of The New Car !!! I Was Never Given Any So Called Incentives Or Discounts As Told Earlier & No $3,000.00 Credit Or Discount Was Ever Allowed Or Taken Away From The Sticker Price Either !!! I Guess That $3K Check Written Out 2 Me That Was Included In The Card They Mailed 2 My Home BOUNCED !!! THe Only Thing NOS Did Do Was Allow Me 5.5% Interest Rate On Financing Only Because They Wanted 2 Charge Me $5,000.00 More Then The Sticker Price Of The Vehicle !!! They Have Absolutely Nothing 2 Lose & Everything 2 Gain By CHEATING U By Getting U 2 Sign A Binding Contract That If U Default On The Financer Just Simply Repossess Your Vehicle & U Still Owe The Balance Of The LOAN !!! I Just Want The Public 2 Be Aware Of Nissan Of Chesapeake & How They Will Screw U If U Only Give Them The Chance Or OPPORTUNITY 2 !!!\"\n        ],\n        \"semantic_type\": \"\",\n        \"description\": \"\"\n      }\n    },\n    {\n      \"column\": \"text_sent_count\",\n      \"properties\": {\n        \"dtype\": \"number\",\n        \"std\": null,\n        \"min\": 105,\n        \"max\": 105,\n        \"num_unique_values\": 1,\n        \"samples\": [\n          105\n        ],\n        \"semantic_type\": \"\",\n        \"description\": \"\"\n      }\n    },\n    {\n      \"column\": \"text_word_count\",\n      \"properties\": {\n        \"dtype\": \"number\",\n        \"std\": null,\n        \"min\": 1430,\n        \"max\": 1430,\n        \"num_unique_values\": 1,\n        \"samples\": [\n          1430\n        ],\n        \"semantic_type\": \"\",\n        \"description\": \"\"\n      }\n    }\n  ]\n}"
            }
          },
          "metadata": {},
          "execution_count": 50
        }
      ]
    },
    {
      "cell_type": "code",
      "source": [
        "# View only text\n",
        "list(df_train[df_train['text_sent_count']==105][\"text\"])"
      ],
      "metadata": {
        "colab": {
          "base_uri": "https://localhost:8080/"
        },
        "id": "FOKRXWB6DmgX",
        "outputId": "c1cd823e-b786-4bd8-eeff-8ee2dbb16259"
      },
      "execution_count": null,
      "outputs": [
        {
          "output_type": "execute_result",
          "data": {
            "text/plain": [
              "[\"BUYER BEWARE !!! How Nissan Of Chesapeake GOT AWAY With Charging Me $5K($5,000.00) Above The Sticker Price Of A 2014 Nissan Altima S !!! I Received A Card In The Mail From NOC Telling Me I Owned A 2009 Chrysler 300LX & That My Monthly Payments Were Just $270.00 A Month. They Said They Would Offer 2 Refinance Existing Loan 4 Cheaper Interest Rate Or Trade In My Car Offering Me 10% More Then It Was Worth, Pay Off The Loan, & Give Me A Deal I Could Not Resist On Purchasing A Brand New Car From Them !!! I Called Them & Made An Appointment 4 May 30, 2014 !!! The Sales Team Act As Though They Are Trying Their Best 2 Help U Or Become Your Friends When In Fact What They Are Really Doing Is 2 Get U 2 Drop Your Guard Down So They Can Become Your Worst Enemy & Get As Much Money Out Of U As Possible !!! Here Is How They Conned Me In2 Signing A Binding Contract Paying $200.00 More Each Month 4 The Next 72 Months 4 A Car I Did Not Want !!! Initially I Was Not Even Looking 4 A Brand New Car 2 Purchase But A Used Truck With A 4 Cylinder Engine Since The Car I Owned Had A V-6 Which Used 2 Much Gas !!! It Did Not Take Long 2 Discover Nissan Does Not Even Make A Truck With A 4 Cylinder Engine !!! Then I Was Told I Could Only Receive SPECIAL FINANCING INTEREST RATES & VEHICLE INCENTIVE DISCOUNTS If I Purchased A Brand New Vehicle Such As The Altima !!! I Was Shown What Part Of Their Lot 2 Look Then I Discovered All The Colors Were Mostly White & Black But There Was 1 That Stood Out & It Was Fully Loaded With All The Bells & Whistles So That's The 1 I Chose 2 TEST DRIVE !!! I Was Shocked 2 Discover How This Smaller Vehicle Them My Full Size Chrysler 300 Was Easier 2 Handle & Had A More Comfortable Ride Plus All The Extras 2 Many 2 Mention Here !!! The Sticker Price Was $31K So I Was Quickly Told There Was No way I Would Ever Be Able 2 Afford Monthly Payments !!! Since They Knew I Was Now Hooked On The Exspensive Nissan Altima All I Had 2 Do Was Find A Cheaper Model That I Could Afford Monthly Payments !!! We Had 2 Leave The Dealership & Drive 2 Another Crammed Lot Full Of Vehicles In Order 2 Find An Altima With The Color I Liked !!! I Found A Red Altima That Only Had Hub Caps No Custom Rims & The List Price Was $23K !!! I Dealth With A Salesman & His Manager Who Both Kept Insuring Me How They Would Be Getting Me The Deal Of A Lifetime !!! The Manager Said He Got Me 5.5% Financing Which Was Far Better Then What I Had On The Chrysler 300 When I Purchased That For 8.9 % !!! He Then Said The Payments Would Be $460.00 A Month Never Mentioning 4 How Long !!! I Told Him That Was 2 High So He Said He Could'nt Get Them Lowered Unless I Put Some Money Down !!! I Told Them I Needed Monthly Payments Below $400.00 Each Month So He Tried Hitting Me Up For $1 Grand Down Which I Said I Could'nt Afford !!! He Then Asked How Much I Could Afford & They Would Simply Hold My Check Until The Funds Were There !!! These Guys Are Masters @ Manipulation, Coersion, & Wearing U Down Until U Give In !!! I Told Them Earlier I Was Diabetic & Had Not Had Anything 2 Eat 4 A Few Hours So My Blood Sugar Was Low So I Guess They Knew They Could Take Advantage Of Me !!! My Initial Appointment Was @ 1:30PM & This Was Now Several Hours Later Around 5-6PM !!! I Told Them I Could Afford $500.00 Check But It Would Not Be Good 4 @ Least 2 More Weeks !!! The Payments Were'nt Reduced Under $400.00 But Remained @ $416.00 A Month !!! No Figures Were Ever Discussed Or Seen During The Entire Negotiation !!! I Told Them I Had Just Been Offered $11k(11,000.00) Alread 4 A Trade In On My 2009 Chrysler 300 From the Exact Same Dealarship I Bought It From Less Then A Year & Half Ago !!! The Car Did Not Have 1 Scratch Or Dent On It & Was In Better Shape Now Then It Was When I Bought It & I Had Not Even Put 10K(10,000) Miles On It !!! The Pay Off Amount Was $12K So I Knew I Would Only Have 2 Make Up For $1k Difference Which Would Be Then Added 2 The Price Of The Altima !!! The Card I Received In The Mail From NOC Also Had A Check For $3k($3,000.00) That Could Be Used 2Wards The Purchase Of A New Car Or Used 2 Lower The Sticker Price So I Thought I Was Set !!! By The Time i Finally Got 2 The Finance Office My Blood Sugar Was So Low I Just Signed Every Paper Thrown In Front Of Me & Said Yes 2 Everything Just 2 Try 2 Get The Hell Out Of There As Soon As I Could So I Could Get Something 2 Eat !!! I Never Left The Dealarship Until Almost DARK Outside Which Was @ Least 7-8 Hours After I 1st Arrived There !!! Nissan Only Offers A 3 Year Warranty On Their New Vehicles So I Hurriedly Agreed 2 An additional 3 Yrs.Extended Warranty Which Raised The Monthly Car Payments Back Up To $460.00 For The Next 72 Months !!! Gap Insurance Was also Thrown In There Somewhere !!! Again No Figures Or Prices Were Ever Disclosed B4 Or @ The Signing Of The Contract Other Then ONLY The Monthly Payment AMOUNT !!! I Can Not Tell U Just How Sick I was 3 Days Later After I Left Nissan Of Chesapeake & Discovered Just How Much & BAD They Had Screwed Me !!! They Only Allowed Me $8K($8,000.00) Trade In Value On The Chrysler 300 Which Is The Rock Bottom Price Allowed 4 A ROUGH Trade In Not A Prestige Trade In Like I Gave Them !!! This Automatically Put Me Owing The Payoff Amount Of My Chrysler 300 $4k($4,000.00) Instead Of Just $1000.00 If Tghey Had Given Me THe Amount That My Car Was Worth !!! So Now NOC Can Add The Difference 2 The Price Of The Nissan !!! THey Also Charged Me $2k($2,000.00) 4 The Extended Warranty Which Is Added 2 The Sticker price Of The New Car !!! I Was Never Given Any So Called Incentives Or Discounts As Told Earlier & No $3,000.00 Credit Or Discount Was Ever Allowed Or Taken Away From The Sticker Price Either !!! I Guess That $3K Check Written Out 2 Me That Was Included In The Card They Mailed 2 My Home BOUNCED !!! THe Only Thing NOS Did Do Was Allow Me 5.5% Interest Rate On Financing Only Because They Wanted 2 Charge Me $5,000.00 More Then The Sticker Price Of The Vehicle !!! They Have Absolutely Nothing 2 Lose & Everything 2 Gain By CHEATING U By Getting U 2 Sign A Binding Contract That If U Default On The Financer Just Simply Repossess Your Vehicle & U Still Owe The Balance Of The LOAN !!! I Just Want The Public 2 Be Aware Of Nissan Of Chesapeake & How They Will Screw U If U Only Give Them The Chance Or OPPORTUNITY 2 !!!\"]"
            ]
          },
          "metadata": {},
          "execution_count": 51
        }
      ]
    },
    {
      "cell_type": "markdown",
      "source": [
        "# 5. Word Count"
      ],
      "metadata": {
        "id": "LKnCSkjQDmi_"
      }
    },
    {
      "cell_type": "code",
      "source": [
        "def word_len(text):\n",
        "  doc = nlp(text)\n",
        "  words_list = [token.text for token in doc]\n",
        "  return len(words_list)\n"
      ],
      "metadata": {
        "id": "LLfuQ-ZgDoIs"
      },
      "execution_count": null,
      "outputs": []
    },
    {
      "cell_type": "markdown",
      "source": [
        "### 5.1 Get Each Row Word Count\n",
        "**This cell takes approx 2 minutes to run**"
      ],
      "metadata": {
        "id": "aYrPt0wgwzoR"
      }
    },
    {
      "cell_type": "code",
      "source": [
        "import time\n",
        "st = time.time()\n",
        "df_train[\"text_word_count\"] = df_train[\"text\"].apply(word_len)\n",
        "print(time.time()-st)\n",
        "df_train.head(2)"
      ],
      "metadata": {
        "colab": {
          "base_uri": "https://localhost:8080/",
          "height": 129
        },
        "id": "I8Ia3CRxERTx",
        "outputId": "1b60992c-d91f-444a-a921-72eac05a8944"
      },
      "execution_count": null,
      "outputs": [
        {
          "output_type": "stream",
          "name": "stdout",
          "text": [
            "94.1717882156372\n"
          ]
        },
        {
          "output_type": "execute_result",
          "data": {
            "text/plain": [
              "   label  age ageRange   id  \\\n",
              "0      1   42    25-54  238   \n",
              "1      1   42    25-54  239   \n",
              "\n",
              "                                                text  text_sent_count  \\\n",
              "0                      Not the best overall service.                1   \n",
              "1  Since it is the #1 social network however with...                1   \n",
              "\n",
              "   text_word_count  \n",
              "0                6  \n",
              "1               53  "
            ],
            "text/html": [
              "\n",
              "  <div id=\"df-a13ceba1-943d-44e7-bd9b-2e4ba5e282e6\" class=\"colab-df-container\">\n",
              "    <div>\n",
              "<style scoped>\n",
              "    .dataframe tbody tr th:only-of-type {\n",
              "        vertical-align: middle;\n",
              "    }\n",
              "\n",
              "    .dataframe tbody tr th {\n",
              "        vertical-align: top;\n",
              "    }\n",
              "\n",
              "    .dataframe thead th {\n",
              "        text-align: right;\n",
              "    }\n",
              "</style>\n",
              "<table border=\"1\" class=\"dataframe\">\n",
              "  <thead>\n",
              "    <tr style=\"text-align: right;\">\n",
              "      <th></th>\n",
              "      <th>label</th>\n",
              "      <th>age</th>\n",
              "      <th>ageRange</th>\n",
              "      <th>id</th>\n",
              "      <th>text</th>\n",
              "      <th>text_sent_count</th>\n",
              "      <th>text_word_count</th>\n",
              "    </tr>\n",
              "  </thead>\n",
              "  <tbody>\n",
              "    <tr>\n",
              "      <th>0</th>\n",
              "      <td>1</td>\n",
              "      <td>42</td>\n",
              "      <td>25-54</td>\n",
              "      <td>238</td>\n",
              "      <td>Not the best overall service.</td>\n",
              "      <td>1</td>\n",
              "      <td>6</td>\n",
              "    </tr>\n",
              "    <tr>\n",
              "      <th>1</th>\n",
              "      <td>1</td>\n",
              "      <td>42</td>\n",
              "      <td>25-54</td>\n",
              "      <td>239</td>\n",
              "      <td>Since it is the #1 social network however with...</td>\n",
              "      <td>1</td>\n",
              "      <td>53</td>\n",
              "    </tr>\n",
              "  </tbody>\n",
              "</table>\n",
              "</div>\n",
              "    <div class=\"colab-df-buttons\">\n",
              "\n",
              "  <div class=\"colab-df-container\">\n",
              "    <button class=\"colab-df-convert\" onclick=\"convertToInteractive('df-a13ceba1-943d-44e7-bd9b-2e4ba5e282e6')\"\n",
              "            title=\"Convert this dataframe to an interactive table.\"\n",
              "            style=\"display:none;\">\n",
              "\n",
              "  <svg xmlns=\"http://www.w3.org/2000/svg\" height=\"24px\" viewBox=\"0 -960 960 960\">\n",
              "    <path d=\"M120-120v-720h720v720H120Zm60-500h600v-160H180v160Zm220 220h160v-160H400v160Zm0 220h160v-160H400v160ZM180-400h160v-160H180v160Zm440 0h160v-160H620v160ZM180-180h160v-160H180v160Zm440 0h160v-160H620v160Z\"/>\n",
              "  </svg>\n",
              "    </button>\n",
              "\n",
              "  <style>\n",
              "    .colab-df-container {\n",
              "      display:flex;\n",
              "      gap: 12px;\n",
              "    }\n",
              "\n",
              "    .colab-df-convert {\n",
              "      background-color: #E8F0FE;\n",
              "      border: none;\n",
              "      border-radius: 50%;\n",
              "      cursor: pointer;\n",
              "      display: none;\n",
              "      fill: #1967D2;\n",
              "      height: 32px;\n",
              "      padding: 0 0 0 0;\n",
              "      width: 32px;\n",
              "    }\n",
              "\n",
              "    .colab-df-convert:hover {\n",
              "      background-color: #E2EBFA;\n",
              "      box-shadow: 0px 1px 2px rgba(60, 64, 67, 0.3), 0px 1px 3px 1px rgba(60, 64, 67, 0.15);\n",
              "      fill: #174EA6;\n",
              "    }\n",
              "\n",
              "    .colab-df-buttons div {\n",
              "      margin-bottom: 4px;\n",
              "    }\n",
              "\n",
              "    [theme=dark] .colab-df-convert {\n",
              "      background-color: #3B4455;\n",
              "      fill: #D2E3FC;\n",
              "    }\n",
              "\n",
              "    [theme=dark] .colab-df-convert:hover {\n",
              "      background-color: #434B5C;\n",
              "      box-shadow: 0px 1px 3px 1px rgba(0, 0, 0, 0.15);\n",
              "      filter: drop-shadow(0px 1px 2px rgba(0, 0, 0, 0.3));\n",
              "      fill: #FFFFFF;\n",
              "    }\n",
              "  </style>\n",
              "\n",
              "    <script>\n",
              "      const buttonEl =\n",
              "        document.querySelector('#df-a13ceba1-943d-44e7-bd9b-2e4ba5e282e6 button.colab-df-convert');\n",
              "      buttonEl.style.display =\n",
              "        google.colab.kernel.accessAllowed ? 'block' : 'none';\n",
              "\n",
              "      async function convertToInteractive(key) {\n",
              "        const element = document.querySelector('#df-a13ceba1-943d-44e7-bd9b-2e4ba5e282e6');\n",
              "        const dataTable =\n",
              "          await google.colab.kernel.invokeFunction('convertToInteractive',\n",
              "                                                    [key], {});\n",
              "        if (!dataTable) return;\n",
              "\n",
              "        const docLinkHtml = 'Like what you see? Visit the ' +\n",
              "          '<a target=\"_blank\" href=https://colab.research.google.com/notebooks/data_table.ipynb>data table notebook</a>'\n",
              "          + ' to learn more about interactive tables.';\n",
              "        element.innerHTML = '';\n",
              "        dataTable['output_type'] = 'display_data';\n",
              "        await google.colab.output.renderOutput(dataTable, element);\n",
              "        const docLink = document.createElement('div');\n",
              "        docLink.innerHTML = docLinkHtml;\n",
              "        element.appendChild(docLink);\n",
              "      }\n",
              "    </script>\n",
              "  </div>\n",
              "\n",
              "\n",
              "<div id=\"df-c59ea08a-b07f-42db-a14d-b50b24077be2\">\n",
              "  <button class=\"colab-df-quickchart\" onclick=\"quickchart('df-c59ea08a-b07f-42db-a14d-b50b24077be2')\"\n",
              "            title=\"Suggest charts\"\n",
              "            style=\"display:none;\">\n",
              "\n",
              "<svg xmlns=\"http://www.w3.org/2000/svg\" height=\"24px\"viewBox=\"0 0 24 24\"\n",
              "     width=\"24px\">\n",
              "    <g>\n",
              "        <path d=\"M19 3H5c-1.1 0-2 .9-2 2v14c0 1.1.9 2 2 2h14c1.1 0 2-.9 2-2V5c0-1.1-.9-2-2-2zM9 17H7v-7h2v7zm4 0h-2V7h2v10zm4 0h-2v-4h2v4z\"/>\n",
              "    </g>\n",
              "</svg>\n",
              "  </button>\n",
              "\n",
              "<style>\n",
              "  .colab-df-quickchart {\n",
              "      --bg-color: #E8F0FE;\n",
              "      --fill-color: #1967D2;\n",
              "      --hover-bg-color: #E2EBFA;\n",
              "      --hover-fill-color: #174EA6;\n",
              "      --disabled-fill-color: #AAA;\n",
              "      --disabled-bg-color: #DDD;\n",
              "  }\n",
              "\n",
              "  [theme=dark] .colab-df-quickchart {\n",
              "      --bg-color: #3B4455;\n",
              "      --fill-color: #D2E3FC;\n",
              "      --hover-bg-color: #434B5C;\n",
              "      --hover-fill-color: #FFFFFF;\n",
              "      --disabled-bg-color: #3B4455;\n",
              "      --disabled-fill-color: #666;\n",
              "  }\n",
              "\n",
              "  .colab-df-quickchart {\n",
              "    background-color: var(--bg-color);\n",
              "    border: none;\n",
              "    border-radius: 50%;\n",
              "    cursor: pointer;\n",
              "    display: none;\n",
              "    fill: var(--fill-color);\n",
              "    height: 32px;\n",
              "    padding: 0;\n",
              "    width: 32px;\n",
              "  }\n",
              "\n",
              "  .colab-df-quickchart:hover {\n",
              "    background-color: var(--hover-bg-color);\n",
              "    box-shadow: 0 1px 2px rgba(60, 64, 67, 0.3), 0 1px 3px 1px rgba(60, 64, 67, 0.15);\n",
              "    fill: var(--button-hover-fill-color);\n",
              "  }\n",
              "\n",
              "  .colab-df-quickchart-complete:disabled,\n",
              "  .colab-df-quickchart-complete:disabled:hover {\n",
              "    background-color: var(--disabled-bg-color);\n",
              "    fill: var(--disabled-fill-color);\n",
              "    box-shadow: none;\n",
              "  }\n",
              "\n",
              "  .colab-df-spinner {\n",
              "    border: 2px solid var(--fill-color);\n",
              "    border-color: transparent;\n",
              "    border-bottom-color: var(--fill-color);\n",
              "    animation:\n",
              "      spin 1s steps(1) infinite;\n",
              "  }\n",
              "\n",
              "  @keyframes spin {\n",
              "    0% {\n",
              "      border-color: transparent;\n",
              "      border-bottom-color: var(--fill-color);\n",
              "      border-left-color: var(--fill-color);\n",
              "    }\n",
              "    20% {\n",
              "      border-color: transparent;\n",
              "      border-left-color: var(--fill-color);\n",
              "      border-top-color: var(--fill-color);\n",
              "    }\n",
              "    30% {\n",
              "      border-color: transparent;\n",
              "      border-left-color: var(--fill-color);\n",
              "      border-top-color: var(--fill-color);\n",
              "      border-right-color: var(--fill-color);\n",
              "    }\n",
              "    40% {\n",
              "      border-color: transparent;\n",
              "      border-right-color: var(--fill-color);\n",
              "      border-top-color: var(--fill-color);\n",
              "    }\n",
              "    60% {\n",
              "      border-color: transparent;\n",
              "      border-right-color: var(--fill-color);\n",
              "    }\n",
              "    80% {\n",
              "      border-color: transparent;\n",
              "      border-right-color: var(--fill-color);\n",
              "      border-bottom-color: var(--fill-color);\n",
              "    }\n",
              "    90% {\n",
              "      border-color: transparent;\n",
              "      border-bottom-color: var(--fill-color);\n",
              "    }\n",
              "  }\n",
              "</style>\n",
              "\n",
              "  <script>\n",
              "    async function quickchart(key) {\n",
              "      const quickchartButtonEl =\n",
              "        document.querySelector('#' + key + ' button');\n",
              "      quickchartButtonEl.disabled = true;  // To prevent multiple clicks.\n",
              "      quickchartButtonEl.classList.add('colab-df-spinner');\n",
              "      try {\n",
              "        const charts = await google.colab.kernel.invokeFunction(\n",
              "            'suggestCharts', [key], {});\n",
              "      } catch (error) {\n",
              "        console.error('Error during call to suggestCharts:', error);\n",
              "      }\n",
              "      quickchartButtonEl.classList.remove('colab-df-spinner');\n",
              "      quickchartButtonEl.classList.add('colab-df-quickchart-complete');\n",
              "    }\n",
              "    (() => {\n",
              "      let quickchartButtonEl =\n",
              "        document.querySelector('#df-c59ea08a-b07f-42db-a14d-b50b24077be2 button');\n",
              "      quickchartButtonEl.style.display =\n",
              "        google.colab.kernel.accessAllowed ? 'block' : 'none';\n",
              "    })();\n",
              "  </script>\n",
              "</div>\n",
              "\n",
              "    </div>\n",
              "  </div>\n"
            ],
            "application/vnd.google.colaboratory.intrinsic+json": {
              "type": "dataframe",
              "variable_name": "df_train",
              "summary": "{\n  \"name\": \"df_train\",\n  \"rows\": 4996,\n  \"fields\": [\n    {\n      \"column\": \"label\",\n      \"properties\": {\n        \"dtype\": \"number\",\n        \"std\": 0,\n        \"min\": 0,\n        \"max\": 1,\n        \"num_unique_values\": 2,\n        \"samples\": [\n          0,\n          1\n        ],\n        \"semantic_type\": \"\",\n        \"description\": \"\"\n      }\n    },\n    {\n      \"column\": \"age\",\n      \"properties\": {\n        \"dtype\": \"number\",\n        \"std\": 18,\n        \"min\": 15,\n        \"max\": 113,\n        \"num_unique_values\": 94,\n        \"samples\": [\n          16,\n          18\n        ],\n        \"semantic_type\": \"\",\n        \"description\": \"\"\n      }\n    },\n    {\n      \"column\": \"ageRange\",\n      \"properties\": {\n        \"dtype\": \"category\",\n        \"num_unique_values\": 4,\n        \"samples\": [\n          \"15-24\",\n          \"65+\"\n        ],\n        \"semantic_type\": \"\",\n        \"description\": \"\"\n      }\n    },\n    {\n      \"column\": \"id\",\n      \"properties\": {\n        \"dtype\": \"number\",\n        \"std\": 1459,\n        \"min\": 238,\n        \"max\": 5406,\n        \"num_unique_values\": 4996,\n        \"samples\": [\n          397,\n          4784\n        ],\n        \"semantic_type\": \"\",\n        \"description\": \"\"\n      }\n    },\n    {\n      \"column\": \"text\",\n      \"properties\": {\n        \"dtype\": \"string\",\n        \"num_unique_values\": 4989,\n        \"samples\": [\n          \"Bought some Emerica Jeans which were reduced from \\u00a345 to \\u00a312.50, they're amazing value! Delivery was hassle free too, even at Royal Mail 2nd Class. Overall, very happy with UrbanSurfer and will definitely shop again from their wide selection of shoes!\",\n          \"Have always been pleased with sales and service. Wish there were more reviews... 9.5 times out of 10 I always buy from here!\"\n        ],\n        \"semantic_type\": \"\",\n        \"description\": \"\"\n      }\n    },\n    {\n      \"column\": \"text_sent_count\",\n      \"properties\": {\n        \"dtype\": \"number\",\n        \"std\": 3,\n        \"min\": 1,\n        \"max\": 105,\n        \"num_unique_values\": 33,\n        \"samples\": [\n          26,\n          16\n        ],\n        \"semantic_type\": \"\",\n        \"description\": \"\"\n      }\n    },\n    {\n      \"column\": \"text_word_count\",\n      \"properties\": {\n        \"dtype\": \"number\",\n        \"std\": 68,\n        \"min\": 1,\n        \"max\": 1430,\n        \"num_unique_values\": 324,\n        \"samples\": [\n          87,\n          54\n        ],\n        \"semantic_type\": \"\",\n        \"description\": \"\"\n      }\n    }\n  ]\n}"
            }
          },
          "metadata": {},
          "execution_count": 28
        }
      ]
    },
    {
      "cell_type": "markdown",
      "source": [
        "### 5.2 Min and Max word length"
      ],
      "metadata": {
        "id": "-geLdViXFJjG"
      }
    },
    {
      "cell_type": "code",
      "source": [
        "df_train['text_word_count'].agg(['min', 'max'])"
      ],
      "metadata": {
        "colab": {
          "base_uri": "https://localhost:8080/"
        },
        "id": "o4mwNKc0FHk2",
        "outputId": "2807f65c-b030-428f-b920-8c392aa56f4d"
      },
      "execution_count": null,
      "outputs": [
        {
          "output_type": "execute_result",
          "data": {
            "text/plain": [
              "min       1\n",
              "max    1430\n",
              "Name: text_word_count, dtype: int64"
            ]
          },
          "metadata": {},
          "execution_count": 30
        }
      ]
    },
    {
      "cell_type": "code",
      "source": [
        "df_train.text_word_count.value_counts().sort_index(ascending=True).plot(kind='bar')\n",
        "plt.xlabel(\"word length\")\n",
        "plt.ylabel(\"data count\")\n",
        "plt.title('Min and Max word length in text column')\n",
        "\n",
        "plt.show()"
      ],
      "metadata": {
        "colab": {
          "base_uri": "https://localhost:8080/",
          "height": 493
        },
        "id": "s8Q-pagaFe2w",
        "outputId": "7c25c38e-99dc-477e-dbf4-8623992dca00"
      },
      "execution_count": null,
      "outputs": [
        {
          "output_type": "display_data",
          "data": {
            "text/plain": [
              "<Figure size 640x480 with 1 Axes>"
            ],
            "image/png": "[encoded data removed]"
          },
          "metadata": {}
        }
      ]
    },
    {
      "cell_type": "markdown",
      "source": [
        "Note: Since the figure is not clear to understand, Let's take top 20 word counts"
      ],
      "metadata": {
        "id": "-_mCqI4E_KyC"
      }
    },
    {
      "cell_type": "markdown",
      "source": [
        "# 5.3 Top 20 word length\n",
        "Steps:\n",
        "- sort the values\n",
        "- take top 20\n",
        "- plot"
      ],
      "metadata": {
        "id": "jTKlen7z_WGq"
      }
    },
    {
      "cell_type": "code",
      "source": [
        "\n",
        "x = df_train.text_word_count.value_counts().sort_index(ascending=True)\n",
        "x = x.sort_values(ascending=False)\n",
        "x= x[:20]\n",
        "x.plot(kind='bar')\n",
        "plt.xlabel(\"word length\")\n",
        "plt.ylabel(\"data count\")\n",
        "plt.title('Word length in text column')\n",
        "\n",
        "plt.show()"
      ],
      "metadata": {
        "colab": {
          "base_uri": "https://localhost:8080/",
          "height": 475
        },
        "id": "l-hPu5oW_Ei1",
        "outputId": "4e67fae2-55c4-491c-ea11-a5ff8abceaef"
      },
      "execution_count": null,
      "outputs": [
        {
          "output_type": "display_data",
          "data": {
            "text/plain": [
              "<Figure size 640x480 with 1 Axes>"
            ],
            "image/png": "[encoded data removed]"
          },
          "metadata": {}
        }
      ]
    },
    {
      "cell_type": "markdown",
      "source": [
        "Note: from the figure we can see that the most common word length is 12"
      ],
      "metadata": {
        "id": "OS8fN8UCAf2T"
      }
    },
    {
      "cell_type": "code",
      "source": [],
      "metadata": {
        "id": "LJhz4ZuO_YIQ"
      },
      "execution_count": null,
      "outputs": []
    }
  ]
}